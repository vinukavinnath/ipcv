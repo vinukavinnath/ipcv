{
 "cells": [
  {
   "cell_type": "markdown",
   "id": "a822fc94-db30-4d03-b953-af72cfce03a9",
   "metadata": {},
   "source": [
    "# Gun Detection with VGG16"
   ]
  },
  {
   "cell_type": "code",
   "execution_count": 44,
   "id": "552c960e-d0ce-45f6-ab49-18fb1a9d0bd3",
   "metadata": {},
   "outputs": [],
   "source": [
    "# Import TensorFlow and Keras\n",
    "import tensorflow as tf\n",
    "from tensorflow.keras.applications import VGG16\n",
    "from tensorflow.keras.models import Model\n",
    "from tensorflow.keras.layers import Dense, Flatten\n",
    "from tensorflow.keras.preprocessing.image import ImageDataGenerator\n",
    "from tensorflow.keras.optimizers import Adam\n",
    "from tensorflow.keras.callbacks import ModelCheckpoint, EarlyStopping\n",
    "from tensorflow.keras.preprocessing.image import load_img\n",
    "from tensorflow.keras.preprocessing.image import load_img, img_to_array\n",
    "from tensorflow.keras.applications.vgg16 import preprocess_input"
   ]
  },
  {
   "cell_type": "code",
   "execution_count": 21,
   "id": "2b4a0173-47f0-4568-8f4b-1d9b83cb9ef9",
   "metadata": {},
   "outputs": [],
   "source": [
    "import os"
   ]
  },
  {
   "cell_type": "code",
   "execution_count": 40,
   "id": "d8124351-2684-40e7-af67-f92326829dc5",
   "metadata": {},
   "outputs": [],
   "source": [
    "import numpy as np"
   ]
  },
  {
   "cell_type": "code",
   "execution_count": 22,
   "id": "88a401b2-fef7-46b1-bec2-146ba64dfcbb",
   "metadata": {},
   "outputs": [],
   "source": [
    "#Returns folder structure\n",
    "def print_folder_structure(root_dir, indent=0):\n",
    "    for item in os.listdir(root_dir):\n",
    "        item_path = os.path.join(root_dir, item)\n",
    "        if os.path.isdir(item_path):\n",
    "            print(' ' * indent + '|-- ' + item)\n",
    "            print_folder_structure(item_path, indent + 4)"
   ]
  },
  {
   "cell_type": "code",
   "execution_count": 23,
   "id": "ee597cb1-688a-4df5-be8d-7659b8eb267b",
   "metadata": {},
   "outputs": [
    {
     "name": "stdout",
     "output_type": "stream",
     "text": [
      "|-- train\n",
      "    |-- gun\n",
      "    |-- nogun\n",
      "|-- validation\n",
      "    |-- gun\n",
      "    |-- no gun\n"
     ]
    }
   ],
   "source": [
    "#Display the structure\n",
    "root_directory = './dataset'\n",
    "print_folder_structure(root_directory)"
   ]
  },
  {
   "cell_type": "code",
   "execution_count": 24,
   "id": "738c1bee-5ad9-44c3-82f5-1ae45295a344",
   "metadata": {},
   "outputs": [],
   "source": [
    "# Load VGG16 model pre-trained on ImageNet, excluding the top layers\n",
    "base_model = VGG16(weights='imagenet',\n",
    "                   include_top=False, \n",
    "                   input_shape=(224, 224, 3)\n",
    ")"
   ]
  },
  {
   "cell_type": "code",
   "execution_count": 25,
   "id": "99675a17-8b0a-463b-aef4-a5e3fd0ae15c",
   "metadata": {},
   "outputs": [],
   "source": [
    "# Freeze the layers of the base model to prevent them from being trained\n",
    "for layer in base_model.layers:\n",
    "    layer.trainable = False"
   ]
  },
  {
   "cell_type": "code",
   "execution_count": 26,
   "id": "6e5bb2ca-0389-4ca2-b129-65fe7f2ae475",
   "metadata": {},
   "outputs": [],
   "source": [
    "# Add custom layers on top of the base model\n",
    "x = base_model.output\n",
    "x = Flatten()(x)\n",
    "x = Dense(128, activation='relu')(x)\n",
    "x = Dense(1, activation='sigmoid')(x)  # Binary classification: gun or non-gun\n",
    "\n",
    "# Define the complete model\n",
    "model = Model(inputs=base_model.input, outputs=x)"
   ]
  },
  {
   "cell_type": "code",
   "execution_count": 27,
   "id": "6a8ce5ec-b5f5-4a98-ba37-5e776011173e",
   "metadata": {},
   "outputs": [
    {
     "name": "stdout",
     "output_type": "stream",
     "text": [
      "Model: \"model_1\"\n",
      "_________________________________________________________________\n",
      " Layer (type)                Output Shape              Param #   \n",
      "=================================================================\n",
      " input_2 (InputLayer)        [(None, 224, 224, 3)]     0         \n",
      "                                                                 \n",
      " block1_conv1 (Conv2D)       (None, 224, 224, 64)      1792      \n",
      "                                                                 \n",
      " block1_conv2 (Conv2D)       (None, 224, 224, 64)      36928     \n",
      "                                                                 \n",
      " block1_pool (MaxPooling2D)  (None, 112, 112, 64)      0         \n",
      "                                                                 \n",
      " block2_conv1 (Conv2D)       (None, 112, 112, 128)     73856     \n",
      "                                                                 \n",
      " block2_conv2 (Conv2D)       (None, 112, 112, 128)     147584    \n",
      "                                                                 \n",
      " block2_pool (MaxPooling2D)  (None, 56, 56, 128)       0         \n",
      "                                                                 \n",
      " block3_conv1 (Conv2D)       (None, 56, 56, 256)       295168    \n",
      "                                                                 \n",
      " block3_conv2 (Conv2D)       (None, 56, 56, 256)       590080    \n",
      "                                                                 \n",
      " block3_conv3 (Conv2D)       (None, 56, 56, 256)       590080    \n",
      "                                                                 \n",
      " block3_pool (MaxPooling2D)  (None, 28, 28, 256)       0         \n",
      "                                                                 \n",
      " block4_conv1 (Conv2D)       (None, 28, 28, 512)       1180160   \n",
      "                                                                 \n",
      " block4_conv2 (Conv2D)       (None, 28, 28, 512)       2359808   \n",
      "                                                                 \n",
      " block4_conv3 (Conv2D)       (None, 28, 28, 512)       2359808   \n",
      "                                                                 \n",
      " block4_pool (MaxPooling2D)  (None, 14, 14, 512)       0         \n",
      "                                                                 \n",
      " block5_conv1 (Conv2D)       (None, 14, 14, 512)       2359808   \n",
      "                                                                 \n",
      " block5_conv2 (Conv2D)       (None, 14, 14, 512)       2359808   \n",
      "                                                                 \n",
      " block5_conv3 (Conv2D)       (None, 14, 14, 512)       2359808   \n",
      "                                                                 \n",
      " block5_pool (MaxPooling2D)  (None, 7, 7, 512)         0         \n",
      "                                                                 \n",
      " flatten_1 (Flatten)         (None, 25088)             0         \n",
      "                                                                 \n",
      " dense_2 (Dense)             (None, 128)               3211392   \n",
      "                                                                 \n",
      " dense_3 (Dense)             (None, 1)                 129       \n",
      "                                                                 \n",
      "=================================================================\n",
      "Total params: 17,926,209\n",
      "Trainable params: 3,211,521\n",
      "Non-trainable params: 14,714,688\n",
      "_________________________________________________________________\n"
     ]
    }
   ],
   "source": [
    "# View model summery\n",
    "model.summary()"
   ]
  },
  {
   "cell_type": "code",
   "execution_count": 28,
   "id": "04725881-8932-432b-b325-a55e55f02455",
   "metadata": {},
   "outputs": [],
   "source": [
    "# Compile the model with binary cross-entropy loss and Adam optimizer\n",
    "model.compile(\n",
    "    optimizer=Adam(learning_rate=0.0001), \n",
    "    loss='binary_crossentropy', \n",
    "    metrics=['accuracy']\n",
    ")"
   ]
  },
  {
   "cell_type": "code",
   "execution_count": 29,
   "id": "bbd5720e-12a4-4123-a978-8eac382c6176",
   "metadata": {},
   "outputs": [
    {
     "name": "stdout",
     "output_type": "stream",
     "text": [
      "Found 110 images belonging to 2 classes.\n",
      "Found 95 images belonging to 2 classes.\n"
     ]
    }
   ],
   "source": [
    "# Define data generators for training and validation\n",
    "train_datagen = ImageDataGenerator(rescale=1./255, rotation_range=20, width_shift_range=0.2,\n",
    "                                   height_shift_range=0.2, shear_range=0.2, zoom_range=0.2,\n",
    "                                   horizontal_flip=True, fill_mode='nearest')\n",
    "\n",
    "val_datagen = ImageDataGenerator(rescale=1./255)\n",
    "\n",
    "train_generator = train_datagen.flow_from_directory('./dataset/train/', target_size=(224, 224),\n",
    "                                                    batch_size=32, class_mode='binary')\n",
    "\n",
    "val_generator = val_datagen.flow_from_directory('./dataset/validation/', target_size=(224, 224),\n",
    "                                                batch_size=32, class_mode='binary')"
   ]
  },
  {
   "cell_type": "code",
   "execution_count": 30,
   "id": "923d2c6c-3497-4c2d-bf8d-415af26c3682",
   "metadata": {},
   "outputs": [
    {
     "name": "stdout",
     "output_type": "stream",
     "text": [
      "Epoch 1/25\n",
      "4/4 [==============================] - 14s 4s/step - loss: 0.6638 - accuracy: 0.5818 - val_loss: 0.6235 - val_accuracy: 0.6105\n",
      "Epoch 2/25\n",
      "4/4 [==============================] - 14s 4s/step - loss: 0.5085 - accuracy: 0.7455 - val_loss: 0.4786 - val_accuracy: 0.7263\n",
      "Epoch 3/25\n",
      "4/4 [==============================] - 14s 4s/step - loss: 0.4143 - accuracy: 0.8000 - val_loss: 0.3240 - val_accuracy: 0.9263\n",
      "Epoch 4/25\n",
      "4/4 [==============================] - 14s 4s/step - loss: 0.3339 - accuracy: 0.8636 - val_loss: 0.2931 - val_accuracy: 0.9263\n",
      "Epoch 5/25\n",
      "4/4 [==============================] - 14s 4s/step - loss: 0.2559 - accuracy: 0.9182 - val_loss: 0.2956 - val_accuracy: 0.8737\n",
      "Epoch 6/25\n",
      "4/4 [==============================] - 15s 4s/step - loss: 0.2226 - accuracy: 0.9455 - val_loss: 0.2569 - val_accuracy: 0.9053\n",
      "Epoch 7/25\n",
      "4/4 [==============================] - 14s 4s/step - loss: 0.1961 - accuracy: 0.9364 - val_loss: 0.2230 - val_accuracy: 0.9158\n",
      "Epoch 8/25\n",
      "4/4 [==============================] - 15s 4s/step - loss: 0.1499 - accuracy: 0.9455 - val_loss: 0.2148 - val_accuracy: 0.9158\n",
      "Epoch 9/25\n",
      "4/4 [==============================] - 15s 4s/step - loss: 0.1696 - accuracy: 0.9364 - val_loss: 0.2230 - val_accuracy: 0.9158\n",
      "Epoch 10/25\n",
      "4/4 [==============================] - 15s 4s/step - loss: 0.1407 - accuracy: 0.9455 - val_loss: 0.2215 - val_accuracy: 0.9158\n",
      "Epoch 11/25\n",
      "4/4 [==============================] - 15s 4s/step - loss: 0.1361 - accuracy: 0.9545 - val_loss: 0.2140 - val_accuracy: 0.9158\n",
      "Epoch 12/25\n",
      "4/4 [==============================] - 14s 4s/step - loss: 0.1061 - accuracy: 0.9818 - val_loss: 0.2333 - val_accuracy: 0.9158\n",
      "Epoch 13/25\n",
      "4/4 [==============================] - 14s 4s/step - loss: 0.1088 - accuracy: 0.9818 - val_loss: 0.2069 - val_accuracy: 0.9263\n",
      "Epoch 14/25\n",
      "4/4 [==============================] - 15s 4s/step - loss: 0.1230 - accuracy: 0.9545 - val_loss: 0.2007 - val_accuracy: 0.9158\n",
      "Epoch 15/25\n",
      "4/4 [==============================] - 14s 4s/step - loss: 0.0843 - accuracy: 0.9818 - val_loss: 0.1931 - val_accuracy: 0.9158\n",
      "Epoch 16/25\n",
      "4/4 [==============================] - 14s 4s/step - loss: 0.0842 - accuracy: 0.9909 - val_loss: 0.2560 - val_accuracy: 0.9158\n",
      "Epoch 17/25\n",
      "4/4 [==============================] - 14s 4s/step - loss: 0.0893 - accuracy: 0.9818 - val_loss: 0.1891 - val_accuracy: 0.9053\n",
      "Epoch 18/25\n",
      "4/4 [==============================] - 14s 4s/step - loss: 0.1205 - accuracy: 0.9545 - val_loss: 0.2228 - val_accuracy: 0.9263\n",
      "Epoch 19/25\n",
      "4/4 [==============================] - 14s 4s/step - loss: 0.0711 - accuracy: 0.9909 - val_loss: 0.2357 - val_accuracy: 0.9158\n",
      "Epoch 20/25\n",
      "4/4 [==============================] - 14s 4s/step - loss: 0.0772 - accuracy: 1.0000 - val_loss: 0.2012 - val_accuracy: 0.9158\n",
      "Epoch 21/25\n",
      "4/4 [==============================] - 14s 4s/step - loss: 0.0639 - accuracy: 0.9818 - val_loss: 0.2220 - val_accuracy: 0.9263\n",
      "Epoch 22/25\n",
      "4/4 [==============================] - 14s 4s/step - loss: 0.0554 - accuracy: 1.0000 - val_loss: 0.2504 - val_accuracy: 0.9053\n",
      "Epoch 23/25\n",
      "4/4 [==============================] - 14s 4s/step - loss: 0.0573 - accuracy: 0.9909 - val_loss: 0.2501 - val_accuracy: 0.9053\n",
      "Epoch 24/25\n",
      "4/4 [==============================] - 14s 4s/step - loss: 0.0836 - accuracy: 0.9818 - val_loss: 0.2002 - val_accuracy: 0.9158\n",
      "Epoch 25/25\n",
      "4/4 [==============================] - 15s 4s/step - loss: 0.0534 - accuracy: 0.9818 - val_loss: 0.2040 - val_accuracy: 0.9158\n"
     ]
    }
   ],
   "source": [
    "# Train the model using the training and validation generators\n",
    "history = model.fit(\n",
    "    train_generator, \n",
    "    epochs=25, \n",
    "    validation_data=val_generator\n",
    ")"
   ]
  },
  {
   "cell_type": "code",
   "execution_count": 31,
   "id": "2d3cc389-8cf5-4436-9025-de57aca1633f",
   "metadata": {},
   "outputs": [
    {
     "name": "stdout",
     "output_type": "stream",
     "text": [
      "3/3 [==============================] - 6s 2s/step - loss: 0.2040 - accuracy: 0.9158\n",
      "Validation Loss: 0.2040\n",
      "Validation Accuracy: 0.9158\n"
     ]
    }
   ],
   "source": [
    "# Evaluate the model on the validation set\n",
    "val_loss, val_accuracy = model.evaluate(val_generator)\n",
    "print(f\"Validation Loss: {val_loss:.4f}\")\n",
    "print(f\"Validation Accuracy: {val_accuracy:.4f}\")"
   ]
  },
  {
   "cell_type": "markdown",
   "id": "6642c6f7-78d9-4491-a805-6e5e1146b7b1",
   "metadata": {},
   "source": [
    "## Testing the trained model with a sample image"
   ]
  },
  {
   "cell_type": "code",
   "execution_count": 35,
   "id": "f16820a1-6fc4-4cb2-bcf7-6945c0d737df",
   "metadata": {},
   "outputs": [
    {
     "data": {
      "image/png": "[encoded data removed]",
      "text/plain": [
       "<PIL.Image.Image image mode=RGB size=224x224>"
      ]
     },
     "execution_count": 35,
     "metadata": {},
     "output_type": "execute_result"
    }
   ],
   "source": [
    "# Load a image from the validation dataset\n",
    "img = load_img(\n",
    "    path=\"./test_gun.jpg\", \n",
    "    target_size=(224, 224)\n",
    ")\n",
    "\n",
    "img"
   ]
  },
  {
   "cell_type": "code",
   "execution_count": 38,
   "id": "b3f6cec0-f78e-42f3-bb70-2d48b530929e",
   "metadata": {},
   "outputs": [
    {
     "data": {
      "text/plain": [
       "array([[[0., 0., 0.],\n",
       "        [0., 0., 0.],\n",
       "        [0., 0., 0.],\n",
       "        ...,\n",
       "        [0., 0., 0.],\n",
       "        [0., 0., 0.],\n",
       "        [0., 0., 0.]],\n",
       "\n",
       "       [[0., 0., 0.],\n",
       "        [0., 0., 0.],\n",
       "        [0., 0., 0.],\n",
       "        ...,\n",
       "        [0., 0., 0.],\n",
       "        [0., 0., 0.],\n",
       "        [0., 0., 0.]],\n",
       "\n",
       "       [[0., 0., 0.],\n",
       "        [0., 0., 0.],\n",
       "        [0., 0., 0.],\n",
       "        ...,\n",
       "        [0., 0., 0.],\n",
       "        [0., 0., 0.],\n",
       "        [0., 0., 0.]],\n",
       "\n",
       "       ...,\n",
       "\n",
       "       [[0., 0., 0.],\n",
       "        [0., 0., 0.],\n",
       "        [0., 0., 0.],\n",
       "        ...,\n",
       "        [0., 0., 0.],\n",
       "        [0., 0., 0.],\n",
       "        [0., 0., 0.]],\n",
       "\n",
       "       [[0., 0., 0.],\n",
       "        [0., 0., 0.],\n",
       "        [0., 0., 0.],\n",
       "        ...,\n",
       "        [0., 0., 0.],\n",
       "        [0., 0., 0.],\n",
       "        [0., 0., 0.]],\n",
       "\n",
       "       [[0., 0., 0.],\n",
       "        [0., 0., 0.],\n",
       "        [0., 0., 0.],\n",
       "        ...,\n",
       "        [0., 0., 0.],\n",
       "        [0., 0., 0.],\n",
       "        [0., 0., 0.]]], dtype=float32)"
      ]
     },
     "execution_count": 38,
     "metadata": {},
     "output_type": "execute_result"
    }
   ],
   "source": [
    "# Convert validation image into a NumPy array\n",
    "x = img_to_array(img)\n",
    "x"
   ]
  },
  {
   "cell_type": "code",
   "execution_count": 41,
   "id": "527c4d36-033b-4b40-afc2-6141a18337a3",
   "metadata": {},
   "outputs": [
    {
     "data": {
      "text/plain": [
       "array([[[[0., 0., 0.],\n",
       "         [0., 0., 0.],\n",
       "         [0., 0., 0.],\n",
       "         ...,\n",
       "         [0., 0., 0.],\n",
       "         [0., 0., 0.],\n",
       "         [0., 0., 0.]],\n",
       "\n",
       "        [[0., 0., 0.],\n",
       "         [0., 0., 0.],\n",
       "         [0., 0., 0.],\n",
       "         ...,\n",
       "         [0., 0., 0.],\n",
       "         [0., 0., 0.],\n",
       "         [0., 0., 0.]],\n",
       "\n",
       "        [[0., 0., 0.],\n",
       "         [0., 0., 0.],\n",
       "         [0., 0., 0.],\n",
       "         ...,\n",
       "         [0., 0., 0.],\n",
       "         [0., 0., 0.],\n",
       "         [0., 0., 0.]],\n",
       "\n",
       "        ...,\n",
       "\n",
       "        [[0., 0., 0.],\n",
       "         [0., 0., 0.],\n",
       "         [0., 0., 0.],\n",
       "         ...,\n",
       "         [0., 0., 0.],\n",
       "         [0., 0., 0.],\n",
       "         [0., 0., 0.]],\n",
       "\n",
       "        [[0., 0., 0.],\n",
       "         [0., 0., 0.],\n",
       "         [0., 0., 0.],\n",
       "         ...,\n",
       "         [0., 0., 0.],\n",
       "         [0., 0., 0.],\n",
       "         [0., 0., 0.]],\n",
       "\n",
       "        [[0., 0., 0.],\n",
       "         [0., 0., 0.],\n",
       "         [0., 0., 0.],\n",
       "         ...,\n",
       "         [0., 0., 0.],\n",
       "         [0., 0., 0.],\n",
       "         [0., 0., 0.]]]], dtype=float32)"
      ]
     },
     "execution_count": 41,
     "metadata": {},
     "output_type": "execute_result"
    }
   ],
   "source": [
    "# Expand dimensions of image array to accommodate for batch size\n",
    "x = np.expand_dims(\n",
    "    a=x,\n",
    "    axis=0,\n",
    ")\n",
    "x"
   ]
  },
  {
   "cell_type": "code",
   "execution_count": 45,
   "id": "e5f1d38c-50a1-4523-ba09-c4a809cb3108",
   "metadata": {},
   "outputs": [
    {
     "data": {
      "text/plain": [
       "array([[[[-103.939, -116.779, -123.68 ],\n",
       "         [-103.939, -116.779, -123.68 ],\n",
       "         [-103.939, -116.779, -123.68 ],\n",
       "         ...,\n",
       "         [-103.939, -116.779, -123.68 ],\n",
       "         [-103.939, -116.779, -123.68 ],\n",
       "         [-103.939, -116.779, -123.68 ]],\n",
       "\n",
       "        [[-103.939, -116.779, -123.68 ],\n",
       "         [-103.939, -116.779, -123.68 ],\n",
       "         [-103.939, -116.779, -123.68 ],\n",
       "         ...,\n",
       "         [-103.939, -116.779, -123.68 ],\n",
       "         [-103.939, -116.779, -123.68 ],\n",
       "         [-103.939, -116.779, -123.68 ]],\n",
       "\n",
       "        [[-103.939, -116.779, -123.68 ],\n",
       "         [-103.939, -116.779, -123.68 ],\n",
       "         [-103.939, -116.779, -123.68 ],\n",
       "         ...,\n",
       "         [-103.939, -116.779, -123.68 ],\n",
       "         [-103.939, -116.779, -123.68 ],\n",
       "         [-103.939, -116.779, -123.68 ]],\n",
       "\n",
       "        ...,\n",
       "\n",
       "        [[-103.939, -116.779, -123.68 ],\n",
       "         [-103.939, -116.779, -123.68 ],\n",
       "         [-103.939, -116.779, -123.68 ],\n",
       "         ...,\n",
       "         [-103.939, -116.779, -123.68 ],\n",
       "         [-103.939, -116.779, -123.68 ],\n",
       "         [-103.939, -116.779, -123.68 ]],\n",
       "\n",
       "        [[-103.939, -116.779, -123.68 ],\n",
       "         [-103.939, -116.779, -123.68 ],\n",
       "         [-103.939, -116.779, -123.68 ],\n",
       "         ...,\n",
       "         [-103.939, -116.779, -123.68 ],\n",
       "         [-103.939, -116.779, -123.68 ],\n",
       "         [-103.939, -116.779, -123.68 ]],\n",
       "\n",
       "        [[-103.939, -116.779, -123.68 ],\n",
       "         [-103.939, -116.779, -123.68 ],\n",
       "         [-103.939, -116.779, -123.68 ],\n",
       "         ...,\n",
       "         [-103.939, -116.779, -123.68 ],\n",
       "         [-103.939, -116.779, -123.68 ],\n",
       "         [-103.939, -116.779, -123.68 ]]]], dtype=float32)"
      ]
     },
     "execution_count": 45,
     "metadata": {},
     "output_type": "execute_result"
    }
   ],
   "source": [
    "# Preprocess the image array as required by VGG16 from Keras Applications\n",
    "img_data = preprocess_input(x)\n",
    "\n",
    "img_data"
   ]
  },
  {
   "cell_type": "code",
   "execution_count": 46,
   "id": "cf568a74-6090-4ad7-aea7-9621789b7f1f",
   "metadata": {},
   "outputs": [
    {
     "name": "stdout",
     "output_type": "stream",
     "text": [
      "1/1 [==============================] - 0s 220ms/step\n",
      "[[1.]]\n"
     ]
    }
   ],
   "source": [
    "# Return prediction\n",
    "prediction = model.predict(img_data)\n",
    "\n",
    "print(prediction)"
   ]
  },
  {
   "cell_type": "code",
   "execution_count": 48,
   "id": "68f9694d-791f-4659-9189-71c7685af4df",
   "metadata": {},
   "outputs": [
    {
     "name": "stdout",
     "output_type": "stream",
     "text": [
      "Gun Detected!\n"
     ]
    }
   ],
   "source": [
    "# Display the prediction\n",
    "if prediction > 0.5:\n",
    "    print(\"Gun Detected!\")\n",
    "else:\n",
    "    print(\"No Gun Detected.\")"
   ]
  }
 ],
 "metadata": {
  "kernelspec": {
   "display_name": "Python 3 (ipykernel)",
   "language": "python",
   "name": "python3"
  },
  "language_info": {
   "codemirror_mode": {
    "name": "ipython",
    "version": 3
   },
   "file_extension": ".py",
   "mimetype": "text/x-python",
   "name": "python",
   "nbconvert_exporter": "python",
   "pygments_lexer": "ipython3",
   "version": "3.9.18"
  }
 },
 "nbformat": 4,
 "nbformat_minor": 5
}
