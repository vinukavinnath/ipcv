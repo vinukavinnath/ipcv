{
 "cells": [
  {
   "cell_type": "markdown",
   "id": "291da387-2ad2-4fac-8aed-5ac4151eec44",
   "metadata": {},
   "source": [
    "# Pneumonia Detection with VGG16"
   ]
  },
  {
   "cell_type": "code",
   "execution_count": null,
   "id": "e62869d4-402a-4392-9925-e619cbf80f1f",
   "metadata": {},
   "outputs": [],
   "source": [
    "conda install tensorflow=2.10"
   ]
  },
  {
   "cell_type": "code",
   "execution_count": 1,
   "id": "5ce165af-ad59-4a5a-b023-b5832888dd9e",
   "metadata": {},
   "outputs": [],
   "source": [
    "#Usual imports\n",
    "import os\n",
    "import numpy as np\n",
    "from glob import glob\n",
    "import matplotlib.pyplot as plt\n",
    "import matplotlib.image as mpimg"
   ]
  },
  {
   "cell_type": "code",
   "execution_count": 2,
   "id": "e50a675a-823b-4e75-a834-20255c5dbcf5",
   "metadata": {},
   "outputs": [],
   "source": [
    "#Tensorflow and Keras imports\n",
    "import tensorflow as tf\n",
    "from tensorflow import keras\n",
    "from keras.models import Model\n",
    "from keras.utils import load_img\n",
    "from keras.models import load_model\n",
    "from keras.models import Sequential\n",
    "from keras.applications.vgg16 import VGG16\n",
    "from tensorflow.keras.utils import img_to_array\n",
    "from keras.applications.vgg16 import preprocess_input\n",
    "from keras.layers import Input, Lambda, Dense, Flatten\n",
    "from keras.preprocessing.image import ImageDataGenerator\n",
    "from tensorflow.keras.applications.vgg16 import preprocess_input"
   ]
  },
  {
   "cell_type": "code",
   "execution_count": 3,
   "id": "8cea591a-bf9a-4787-b14b-b8c9c6db2ae2",
   "metadata": {},
   "outputs": [
    {
     "name": "stdout",
     "output_type": "stream",
     "text": [
      "Train data:\n",
      "  NORMAL: 1341 images\n",
      "  PNEUMONIA: 3875 images\n",
      "\n",
      "Val data:\n",
      "  NORMAL: 8 images\n",
      "  PNEUMONIA: 8 images\n",
      "\n",
      "Test data:\n",
      "  NORMAL: 234 images\n",
      "  PNEUMONIA: 390 images\n",
      "\n"
     ]
    }
   ],
   "source": [
    "#Displaying the image count and structure\n",
    "def count_images(directory):\n",
    "    return sum(1 for _ in os.listdir(directory) if _.endswith(('.png', '.jpg', '.jpeg')))\n",
    "\n",
    "def summarize_data(base_dir):\n",
    "    return {split: {category: count_images(os.path.join(base_dir, split, category)) \n",
    "                    for category in ['NORMAL', 'PNEUMONIA']} \n",
    "            for split in ['train', 'val', 'test']}\n",
    "\n",
    "base_dir = './dataset'\n",
    "data_summary = summarize_data(base_dir)\n",
    "\n",
    "for split, categories in data_summary.items():\n",
    "    print(f'{split.capitalize()} data:')\n",
    "    for category, count in categories.items():\n",
    "        print(f'  {category}: {count} images')\n",
    "    print()"
   ]
  },
  {
   "cell_type": "code",
   "execution_count": 4,
   "id": "fff2e7e0-6a4a-4ea7-bb78-7fbdd57d7c17",
   "metadata": {},
   "outputs": [],
   "source": [
    "#Instantiate data generator for training data\n",
    "train_datagen = ImageDataGenerator(rescale = 1./255,\n",
    "                                   shear_range = 0.2,\n",
    "                                   zoom_range = 0.2,\n",
    "                                   horizontal_flip = True)\n",
    "\n",
    "#Instantiate data generator for testing data\n",
    "test_datagen = ImageDataGenerator(rescale = 1./255)"
   ]
  },
  {
   "cell_type": "code",
   "execution_count": 5,
   "id": "61e2d9a1-7b40-42e5-9075-da1a3b1cdcdf",
   "metadata": {},
   "outputs": [
    {
     "name": "stdout",
     "output_type": "stream",
     "text": [
      "Found 5216 images belonging to 2 classes.\n",
      "Found 624 images belonging to 2 classes.\n"
     ]
    }
   ],
   "source": [
    "#Load the training data via the training data generator\n",
    "training_set = train_datagen.flow_from_directory(\n",
    "    directory = './dataset/train',     # The folder which contains subfolders containing the training data.\n",
    "    target_size = (224, 224),       # The size of the input images. Every image will be resized to this size.\n",
    "    batch_size = 10,                # Number of images to be yielded by the generator per batch\n",
    "    class_mode = 'categorical',     # The type of label arrays returned\n",
    ")\n",
    "\n",
    "#Load the testing data via the testing data generator\n",
    "testing_set = test_datagen.flow_from_directory(\n",
    "    directory = './dataset/test',      # The folder which contains subfolders containing the testing data.\n",
    "    target_size = (224, 224),       # The size of the input images. Every image will be resized to this size.\n",
    "    batch_size = 10,                # Number of images to be yielded by the generator per batch\n",
    "    class_mode = 'categorical',     # The type of label arrays returned\n",
    ")"
   ]
  },
  {
   "cell_type": "code",
   "execution_count": 6,
   "id": "ecdf6311-ffa7-4179-9a1a-d1f9e6236c46",
   "metadata": {},
   "outputs": [
    {
     "name": "stdout",
     "output_type": "stream",
     "text": [
      "['./dataset/train\\\\NORMAL', './dataset/train\\\\PNEUMONIA']\n"
     ]
    }
   ],
   "source": [
    "#Load sub-folders containing training data\n",
    "folders = glob(\"./dataset/train/*\")\n",
    "print(folders)"
   ]
  },
  {
   "cell_type": "code",
   "execution_count": 7,
   "id": "7a5057ee-c606-46f2-acf3-8bd852fbebea",
   "metadata": {},
   "outputs": [],
   "source": [
    "#Load the VGG16 model\n",
    "vgg = VGG16(\n",
    "    input_shape=(224, 224, 3),    # Specify input image properties, i.e. 224px by 224px, 3 color channel (RGB)\n",
    "    weights='imagenet',           # Load the pre-trained weights of the ImageNet dataset\n",
    "    include_top=False,            # Exclude the final fully connected layer\n",
    ")"
   ]
  },
  {
   "cell_type": "code",
   "execution_count": 8,
   "id": "aea8ef3e-482a-4123-998f-e67f24334fab",
   "metadata": {},
   "outputs": [],
   "source": [
    "for layer in vgg.layers:\n",
    "    layer.trainable = False"
   ]
  },
  {
   "cell_type": "code",
   "execution_count": 9,
   "id": "6010c9ca-7193-480f-87ee-4cb5fce295e1",
   "metadata": {},
   "outputs": [],
   "source": [
    "#Instantiate flatten layer\n",
    "flatten_layer=Flatten()\n",
    "\n",
    "#Add flatten layer after VGG16's current output layer\n",
    "x=(flatten_layer)(vgg.output)"
   ]
  },
  {
   "cell_type": "code",
   "execution_count": 10,
   "id": "97c5998d-0473-48fa-8b43-626b1e85d033",
   "metadata": {},
   "outputs": [],
   "source": [
    "#Instantiate dense layer\n",
    "dense_layer = Dense(\n",
    "    units=len(folders),     #The dimensionality of the output space (in this case, 2)\n",
    "    activation=\"softmax\",   #The activation function of the neurons in the layer\n",
    ")\n",
    "\n",
    "#Add dense layer after flatten layer to get model output\n",
    "prediction = (dense_layer)(x)"
   ]
  },
  {
   "cell_type": "code",
   "execution_count": 11,
   "id": "40a0d1d6-69c5-4317-8112-ebf0dc734974",
   "metadata": {},
   "outputs": [],
   "source": [
    "#Instantiate model with VGG16's pre-trained layers and the custom flattened and dense layers\n",
    "model = Model(inputs=vgg.input, outputs=prediction)"
   ]
  },
  {
   "cell_type": "code",
   "execution_count": 12,
   "id": "7726a61f-77de-4965-ac59-1a6dd39025f5",
   "metadata": {},
   "outputs": [
    {
     "name": "stdout",
     "output_type": "stream",
     "text": [
      "Model: \"model\"\n",
      "_________________________________________________________________\n",
      " Layer (type)                Output Shape              Param #   \n",
      "=================================================================\n",
      " input_1 (InputLayer)        [(None, 224, 224, 3)]     0         \n",
      "                                                                 \n",
      " block1_conv1 (Conv2D)       (None, 224, 224, 64)      1792      \n",
      "                                                                 \n",
      " block1_conv2 (Conv2D)       (None, 224, 224, 64)      36928     \n",
      "                                                                 \n",
      " block1_pool (MaxPooling2D)  (None, 112, 112, 64)      0         \n",
      "                                                                 \n",
      " block2_conv1 (Conv2D)       (None, 112, 112, 128)     73856     \n",
      "                                                                 \n",
      " block2_conv2 (Conv2D)       (None, 112, 112, 128)     147584    \n",
      "                                                                 \n",
      " block2_pool (MaxPooling2D)  (None, 56, 56, 128)       0         \n",
      "                                                                 \n",
      " block3_conv1 (Conv2D)       (None, 56, 56, 256)       295168    \n",
      "                                                                 \n",
      " block3_conv2 (Conv2D)       (None, 56, 56, 256)       590080    \n",
      "                                                                 \n",
      " block3_conv3 (Conv2D)       (None, 56, 56, 256)       590080    \n",
      "                                                                 \n",
      " block3_pool (MaxPooling2D)  (None, 28, 28, 256)       0         \n",
      "                                                                 \n",
      " block4_conv1 (Conv2D)       (None, 28, 28, 512)       1180160   \n",
      "                                                                 \n",
      " block4_conv2 (Conv2D)       (None, 28, 28, 512)       2359808   \n",
      "                                                                 \n",
      " block4_conv3 (Conv2D)       (None, 28, 28, 512)       2359808   \n",
      "                                                                 \n",
      " block4_pool (MaxPooling2D)  (None, 14, 14, 512)       0         \n",
      "                                                                 \n",
      " block5_conv1 (Conv2D)       (None, 14, 14, 512)       2359808   \n",
      "                                                                 \n",
      " block5_conv2 (Conv2D)       (None, 14, 14, 512)       2359808   \n",
      "                                                                 \n",
      " block5_conv3 (Conv2D)       (None, 14, 14, 512)       2359808   \n",
      "                                                                 \n",
      " block5_pool (MaxPooling2D)  (None, 7, 7, 512)         0         \n",
      "                                                                 \n",
      " flatten (Flatten)           (None, 25088)             0         \n",
      "                                                                 \n",
      " dense (Dense)               (None, 2)                 50178     \n",
      "                                                                 \n",
      "=================================================================\n",
      "Total params: 14,764,866\n",
      "Trainable params: 50,178\n",
      "Non-trainable params: 14,714,688\n",
      "_________________________________________________________________\n"
     ]
    }
   ],
   "source": [
    "#View the structure of the combined model\n",
    "model.summary()"
   ]
  },
  {
   "cell_type": "code",
   "execution_count": 13,
   "id": "114f4a2e-ac14-42f1-850d-aa939841153d",
   "metadata": {},
   "outputs": [],
   "source": [
    "#Compile the model\n",
    "model.compile(\n",
    "    loss='categorical_crossentropy',\n",
    "    optimizer='adam',\n",
    "    metrics=['accuracy']\n",
    ")"
   ]
  },
  {
   "cell_type": "code",
   "execution_count": 14,
   "id": "465e700d-ea1e-438d-8314-0ea117760965",
   "metadata": {},
   "outputs": [
    {
     "name": "stdout",
     "output_type": "stream",
     "text": [
      "522/522 [==============================] - 412s 788ms/step - loss: 0.2248 - accuracy: 0.9252 - val_loss: 0.5690 - val_accuracy: 0.8734\n"
     ]
    }
   ],
   "source": [
    "#Train the model using the augmented data\n",
    "history = model.fit(\n",
    "    training_set,\n",
    "    validation_data=testing_set,\n",
    "    epochs=1,\n",
    "    steps_per_epoch=len(training_set),\n",
    "    validation_steps=len(testing_set)\n",
    ")"
   ]
  },
  {
   "cell_type": "code",
   "execution_count": 27,
   "id": "aec17ffc-817d-42ed-a1e0-989dcc4b584b",
   "metadata": {},
   "outputs": [
    {
     "data": {
      "image/png": "[encoded data removed]",
      "text/plain": [
       "<PIL.Image.Image image mode=RGB size=224x224>"
      ]
     },
     "execution_count": 27,
     "metadata": {},
     "output_type": "execute_result"
    }
   ],
   "source": [
    "#Load a single image from the testing dataset\n",
    "img = load_img(\n",
    "    path=\"./dataset/test/PNEUMONIA/person1_virus_6.jpeg\",\n",
    "    target_size=(224, 224)\n",
    ")\n",
    "img"
   ]
  },
  {
   "cell_type": "code",
   "execution_count": 28,
   "id": "0f5f499e-2f30-4542-8b62-ac4950941d16",
   "metadata": {},
   "outputs": [],
   "source": [
    "x=tf.keras.preprocessing.image.img_to_array(img)\n",
    "x= np.expand_dims(x,axis=0,)"
   ]
  },
  {
   "cell_type": "code",
   "execution_count": 30,
   "id": "32a52b04-e151-4319-9c1e-049c6a4e93ff",
   "metadata": {},
   "outputs": [
    {
     "name": "stdout",
     "output_type": "stream",
     "text": [
      "(1, 224, 224, 3)\n"
     ]
    }
   ],
   "source": [
    "#Displaying the shape of new tensor \n",
    "print(x.shape)"
   ]
  },
  {
   "cell_type": "code",
   "execution_count": 34,
   "id": "f813f876-f7be-4d13-9540-17e4a2fa6175",
   "metadata": {},
   "outputs": [
    {
     "data": {
      "text/plain": [
       "array([[[[ -91.81701, -130.337  , -151.04001],\n",
       "         [ -96.81701, -135.337  , -156.04001],\n",
       "         [-100.81701, -139.337  , -160.04001],\n",
       "         ...,\n",
       "         [-298.81702, -337.337  , -358.04   ],\n",
       "         [-298.81702, -337.337  , -358.04   ],\n",
       "         [-299.81702, -338.337  , -359.04   ]],\n",
       "\n",
       "        [[ -93.81701, -132.337  , -153.04001],\n",
       "         [ -95.81701, -134.337  , -155.04001],\n",
       "         [ -99.81701, -138.337  , -159.04001],\n",
       "         ...,\n",
       "         [-293.81702, -332.337  , -353.04   ],\n",
       "         [-298.81702, -337.337  , -358.04   ],\n",
       "         [-298.81702, -337.337  , -358.04   ]],\n",
       "\n",
       "        [[ -96.81701, -135.337  , -156.04001],\n",
       "         [ -95.81701, -134.337  , -155.04001],\n",
       "         [-102.81701, -141.337  , -162.04001],\n",
       "         ...,\n",
       "         [-277.81702, -316.337  , -337.04   ],\n",
       "         [-293.81702, -332.337  , -353.04   ],\n",
       "         [-300.81702, -339.337  , -360.04   ]],\n",
       "\n",
       "        ...,\n",
       "\n",
       "        [[-288.81702, -327.337  , -348.04   ],\n",
       "         [-288.81702, -327.337  , -348.04   ],\n",
       "         [-288.81702, -327.337  , -348.04   ],\n",
       "         ...,\n",
       "         [-298.81702, -337.337  , -358.04   ],\n",
       "         [-298.81702, -337.337  , -358.04   ],\n",
       "         [-298.81702, -337.337  , -358.04   ]],\n",
       "\n",
       "        [[-288.81702, -327.337  , -348.04   ],\n",
       "         [-288.81702, -327.337  , -348.04   ],\n",
       "         [-288.81702, -327.337  , -348.04   ],\n",
       "         ...,\n",
       "         [-298.81702, -337.337  , -358.04   ],\n",
       "         [-298.81702, -337.337  , -358.04   ],\n",
       "         [-298.81702, -337.337  , -358.04   ]],\n",
       "\n",
       "        [[-288.81702, -327.337  , -348.04   ],\n",
       "         [-288.81702, -327.337  , -348.04   ],\n",
       "         [-288.81702, -327.337  , -348.04   ],\n",
       "         ...,\n",
       "         [-298.81702, -337.337  , -358.04   ],\n",
       "         [-298.81702, -337.337  , -358.04   ],\n",
       "         [-298.81702, -337.337  , -358.04   ]]]], dtype=float32)"
      ]
     },
     "execution_count": 34,
     "metadata": {},
     "output_type": "execute_result"
    }
   ],
   "source": [
    "#Preprocess the image array as required by VGG16 from Keras Applications\n",
    "img_data=preprocess_input(x)\n",
    "\n",
    "img_data"
   ]
  },
  {
   "cell_type": "code",
   "execution_count": 32,
   "id": "665b1d6c-35bf-47fb-a967-86cf96d4a64c",
   "metadata": {},
   "outputs": [
    {
     "name": "stdout",
     "output_type": "stream",
     "text": [
      "1/1 [==============================] - 1s 561ms/step\n"
     ]
    }
   ],
   "source": [
    "predictions=model.predict(img_data)"
   ]
  },
  {
   "cell_type": "code",
   "execution_count": 33,
   "id": "8d9a4f64-c9a5-478d-92b3-1881efa3efad",
   "metadata": {},
   "outputs": [
    {
     "name": "stdout",
     "output_type": "stream",
     "text": [
      "Affected by pneumonia.\n"
     ]
    }
   ],
   "source": [
    "#Retrieve the predicted class\n",
    "result=int(predictions[0][0])\n",
    "if result == 0:\n",
    "    print(\"Affected by pneumonia.\")\n",
    "else:\n",
    "    print(\"Person is healthy.\")"
   ]
  },
  {
   "cell_type": "code",
   "execution_count": 35,
   "id": "f4541a09-7953-48ec-b376-23ecbf209612",
   "metadata": {},
   "outputs": [
    {
     "name": "stderr",
     "output_type": "stream",
     "text": [
      "WARNING:absl:Found untraced functions such as _jit_compiled_convolution_op, _jit_compiled_convolution_op, _jit_compiled_convolution_op, _jit_compiled_convolution_op, _jit_compiled_convolution_op while saving (showing 5 of 13). These functions will not be directly callable after loading.\n"
     ]
    },
    {
     "name": "stdout",
     "output_type": "stream",
     "text": [
      "INFO:tensorflow:Assets written to: ./vgg16_pneumonia_model\\assets\n"
     ]
    },
    {
     "name": "stderr",
     "output_type": "stream",
     "text": [
      "INFO:tensorflow:Assets written to: ./vgg16_pneumonia_model\\assets\n"
     ]
    }
   ],
   "source": [
    "#Saving the model\n",
    "model.save('./vgg16_pneumonia_model')"
   ]
  },
  {
   "cell_type": "code",
   "execution_count": 38,
   "id": "b337b6ac-ab49-4171-81ca-5862f94ff0eb",
   "metadata": {},
   "outputs": [],
   "source": [
    "#Saving in  hdf5 format\n",
    "model.save(\"\"\"./saved_models/vgg16_pneumonia_model_new.h5\"\"\")"
   ]
  },
  {
   "cell_type": "code",
   "execution_count": 39,
   "id": "69d6d243-27a6-4d7e-996a-cf16da624092",
   "metadata": {},
   "outputs": [],
   "source": [
    "#Loading the model\n",
    "loaded_model = tf.keras.models.load_model(\"\"\"./saved_models/vgg16_pneumonia_model_new.h5\"\"\")"
   ]
  },
  {
   "cell_type": "code",
   "execution_count": 40,
   "id": "34644cb6-77c1-4436-8ebb-0eb4a5e5d7b5",
   "metadata": {},
   "outputs": [
    {
     "name": "stdout",
     "output_type": "stream",
     "text": [
      "Model: \"model\"\n",
      "_________________________________________________________________\n",
      " Layer (type)                Output Shape              Param #   \n",
      "=================================================================\n",
      " input_1 (InputLayer)        [(None, 224, 224, 3)]     0         \n",
      "                                                                 \n",
      " block1_conv1 (Conv2D)       (None, 224, 224, 64)      1792      \n",
      "                                                                 \n",
      " block1_conv2 (Conv2D)       (None, 224, 224, 64)      36928     \n",
      "                                                                 \n",
      " block1_pool (MaxPooling2D)  (None, 112, 112, 64)      0         \n",
      "                                                                 \n",
      " block2_conv1 (Conv2D)       (None, 112, 112, 128)     73856     \n",
      "                                                                 \n",
      " block2_conv2 (Conv2D)       (None, 112, 112, 128)     147584    \n",
      "                                                                 \n",
      " block2_pool (MaxPooling2D)  (None, 56, 56, 128)       0         \n",
      "                                                                 \n",
      " block3_conv1 (Conv2D)       (None, 56, 56, 256)       295168    \n",
      "                                                                 \n",
      " block3_conv2 (Conv2D)       (None, 56, 56, 256)       590080    \n",
      "                                                                 \n",
      " block3_conv3 (Conv2D)       (None, 56, 56, 256)       590080    \n",
      "                                                                 \n",
      " block3_pool (MaxPooling2D)  (None, 28, 28, 256)       0         \n",
      "                                                                 \n",
      " block4_conv1 (Conv2D)       (None, 28, 28, 512)       1180160   \n",
      "                                                                 \n",
      " block4_conv2 (Conv2D)       (None, 28, 28, 512)       2359808   \n",
      "                                                                 \n",
      " block4_conv3 (Conv2D)       (None, 28, 28, 512)       2359808   \n",
      "                                                                 \n",
      " block4_pool (MaxPooling2D)  (None, 14, 14, 512)       0         \n",
      "                                                                 \n",
      " block5_conv1 (Conv2D)       (None, 14, 14, 512)       2359808   \n",
      "                                                                 \n",
      " block5_conv2 (Conv2D)       (None, 14, 14, 512)       2359808   \n",
      "                                                                 \n",
      " block5_conv3 (Conv2D)       (None, 14, 14, 512)       2359808   \n",
      "                                                                 \n",
      " block5_pool (MaxPooling2D)  (None, 7, 7, 512)         0         \n",
      "                                                                 \n",
      " flatten (Flatten)           (None, 25088)             0         \n",
      "                                                                 \n",
      " dense (Dense)               (None, 2)                 50178     \n",
      "                                                                 \n",
      "=================================================================\n",
      "Total params: 14,764,866\n",
      "Trainable params: 50,178\n",
      "Non-trainable params: 14,714,688\n",
      "_________________________________________________________________\n"
     ]
    }
   ],
   "source": [
    "#View Summery\n",
    "loaded_model.summary()"
   ]
  },
  {
   "cell_type": "code",
   "execution_count": null,
   "id": "988f1e5d-16c1-4e42-ab69-ac29c3e20c2f",
   "metadata": {},
   "outputs": [],
   "source": []
  }
 ],
 "metadata": {
  "kernelspec": {
   "display_name": "Python 3 (ipykernel)",
   "language": "python",
   "name": "python3"
  },
  "language_info": {
   "codemirror_mode": {
    "name": "ipython",
    "version": 3
   },
   "file_extension": ".py",
   "mimetype": "text/x-python",
   "name": "python",
   "nbconvert_exporter": "python",
   "pygments_lexer": "ipython3",
   "version": "3.9.19"
  }
 },
 "nbformat": 4,
 "nbformat_minor": 5
}
